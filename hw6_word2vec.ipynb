{
 "cells": [
  {
   "cell_type": "code",
   "execution_count": 4,
   "metadata": {},
   "outputs": [],
   "source": [
    "#Ваша задача построить сеть для произвольного семантического поля, где узлами будут слова, а ребрами наличие косинусного расстояния больше 0.5 в word2vec-модели. Вычислите самые центральные слова графа, его радиус (для каждой компоненты связности) и коэффициент кластеризации.\n",
    "import sys\n",
    "import gensim, logging\n",
    "import networkx as nx\n",
    "import matplotlib.pyplot as plt"
   ]
  },
  {
   "cell_type": "code",
   "execution_count": 5,
   "metadata": {
    "collapsed": true
   },
   "outputs": [],
   "source": [
    "communicate_words_not_ann = [ \"ощущать\", \"реагировать\", \"воспринимать\", \"замечать\", \"увидеть\", \"чувствовать\", \"почуять\", \"сознавать\", \"почувствовать\", \"щупать\", \"прикасаться\", \"ощупывать\", \"шарить\", \"дотрагиваться\", \"уцепиться\"] \n",
    "communicate_words = [word+'_VERB' for word in communicate_words_not_ann]\n",
    "nouns = [\"ощущение\", \"чувство\", \"эмоция\", \"переживание\"]\n",
    "communicate_words.extend([ word+'_NOUN' for word in nouns])"
   ]
  },
  {
   "cell_type": "code",
   "execution_count": 6,
   "metadata": {
    "collapsed": true
   },
   "outputs": [],
   "source": [
    "G = nx.Graph()\n",
    "G.add_nodes_from(communicate_words)"
   ]
  },
  {
   "cell_type": "code",
   "execution_count": 8,
   "metadata": {
    "collapsed": true
   },
   "outputs": [],
   "source": [
    "m = 'ruscorpora_upos_skipgram_300_5_2018.vec.gz'\n",
    "if m.endswith('.vec.gz'):\n",
    "    model = gensim.models.KeyedVectors.load_word2vec_format(m, binary=False)\n",
    "elif m.endswith('.bin.gz'):\n",
    "    model = gensim.models.KeyedVectors.load_word2vec_format(m, binary=True)\n",
    "else:\n",
    "    model = gensim.models.KeyedVectors.load(m)"
   ]
  },
  {
   "cell_type": "code",
   "execution_count": 9,
   "metadata": {
    "collapsed": true
   },
   "outputs": [],
   "source": [
    "model.init_sims(replace=True)"
   ]
  },
  {
   "cell_type": "code",
   "execution_count": 10,
   "metadata": {},
   "outputs": [],
   "source": [
    "near_dict = {}\n",
    "for word in communicate_words:\n",
    "    if word in model:\n",
    "        if word not in near_dict:\n",
    "            near_dict[word] = [sim_word[0] for sim_word in model.most_similar(word) if sim_word[1] > 0.5]            \n",
    "    else:\n",
    "        print('still not today')\n",
    "        "
   ]
  },
  {
   "cell_type": "code",
   "execution_count": 11,
   "metadata": {},
   "outputs": [
    {
     "name": "stdout",
     "output_type": "stream",
     "text": [
      "ощущать_VERB\n",
      "чувствовать_VERB\n",
      "почувствовать_VERB\n",
      "ощутить_VERB\n",
      "ощутиться_VERB\n",
      "чувствоваться_VERB\n",
      "испытывать_VERB\n",
      "ощущение_NOUN\n",
      "ощущать_ADJ\n",
      "почувствоваться_VERB\n",
      "осознавать_VERB\n",
      "реагировать_VERB\n",
      "отреагировать_VERB\n",
      "прореагировать_VERB\n",
      "воспринимать_VERB\n",
      "среагировать_VERB\n",
      "реакция_NOUN\n",
      "реакция_PROPN\n",
      "откликаться_VERB\n",
      "воспринимать_VERB\n",
      "воспринять_VERB\n",
      "восприниматься_VERB\n",
      "воспринимать_ADJ\n",
      "обостренно_ADV\n",
      "восприятие_NOUN\n",
      "реагировать_VERB\n",
      "расценивать_VERB\n",
      "соотносить_ADJ\n",
      "интерпретировать_VERB\n",
      "осознаваться_VERB\n",
      "замечать_VERB\n",
      "примечать_VERB\n",
      "заметить_VERB\n",
      "подмечать_VERB\n",
      "приметить_VERB\n",
      "видеть_VERB\n",
      "догадываться_VERB\n",
      "заметившый_VERB\n",
      "дметить_VERB\n",
      "приумолкнуть_NOUN\n",
      "колосьин_PROPN\n",
      "увидеть_VERB\n",
      "увидать_VERB\n",
      "видеть_VERB\n",
      "завидеть_VERB\n",
      "увидавать_VERB\n",
      "видевать_VERB\n",
      "обрень_PROPN\n",
      "виденный_ADJ\n",
      "видеть_NOUN\n",
      "tiens_PROPN\n",
      "представший_VERB\n",
      "чувствовать_VERB\n",
      "почувствовать_VERB\n",
      "ощущать_VERB\n",
      "сознавать_VERB\n",
      "чувствоваться_VERB\n",
      "ощутить_VERB\n",
      "сознать_VERB\n",
      "чувствовавать_VERB\n",
      "чувствуть_VERB\n",
      "чувствовавший_VERB\n",
      "чувствовывать_VERB\n",
      "почуять_VERB\n",
      "чуять_VERB\n",
      "учуять_VERB\n",
      "зачуять_VERB\n",
      "учовать_VERB\n",
      "почувствовать_VERB\n",
      "чуять_NOUN\n",
      "почовать_VERB\n",
      "нюх_ADV\n",
      "унюхать_VERB\n",
      "човать_VERB\n",
      "сознавать_VERB\n",
      "сознать_VERB\n",
      "осознавать_VERB\n",
      "чувствовать_VERB\n",
      "сознаваемый_VERB\n",
      "ознать_VERB\n",
      "понимать_VERB\n",
      "сознающий_VERB\n",
      "ощущать_VERB\n",
      "чувствовавший_VERB\n",
      "сознает_VERB\n",
      "почувствовать_VERB\n",
      "чувствовать_VERB\n",
      "ощущать_VERB\n",
      "ощутить_VERB\n",
      "ощутиться_VERB\n",
      "почуять_VERB\n",
      "почувствоваться_VERB\n",
      "чувствоваться_VERB\n",
      "ощущение_NOUN\n",
      "сознавать_VERB\n",
      "похолодеть_NOUN\n",
      "щупать_VERB\n",
      "ощупывать_VERB\n",
      "пощупать_VERB\n",
      "ощупать_VERB\n",
      "прощупывать_VERB\n",
      "шарить_VERB\n",
      "охлопывать_VERB\n",
      "пощупава_VERB\n",
      "потрагивать_VERB\n",
      "шмурыгать_VERB\n",
      "потрогава_VERB\n",
      "прикасаться_VERB\n",
      "дотрагиваться_VERB\n",
      "прикоснуться_VERB\n",
      "прикосновение_NOUN\n",
      "притронуться_VERB\n",
      "притрагиваться_VERB\n",
      "прикоснться_VERB\n",
      "дотронуться_VERB\n",
      "осязывать_VERB\n",
      "касаться_VERB\n",
      "дотрогиваться_VERB\n",
      "ощупывать_VERB\n",
      "щупать_VERB\n",
      "ощупать_VERB\n",
      "шарить_VERB\n",
      "охлопывать_VERB\n",
      "прощупывать_VERB\n",
      "шарить_NOUN\n",
      "прощупывый_VERB\n",
      "простукивать_VERB\n",
      "нащупывать_VERB\n",
      "пощупава_VERB\n",
      "шарить_VERB\n",
      "обшаривать_VERB\n",
      "шарить_NOUN\n",
      "пошарить_VERB\n",
      "зашарять_VERB\n",
      "рыться_VERB\n",
      "ощупывать_VERB\n",
      "зашарить_VERB\n",
      "нашарить_VERB\n",
      "нашаривать_VERB\n",
      "охлопывать_VERB\n",
      "дотрагиваться_VERB\n",
      "прикасаться_VERB\n",
      "дотронуться_VERB\n",
      "притронуться_VERB\n",
      "потрогать_VERB\n",
      "прикосновение_NOUN\n",
      "притрагиваться_VERB\n",
      "прикоснуться_VERB\n",
      "дотрогиваться_VERB\n",
      "трогать_VERB\n",
      "дотронться_VERB\n",
      "уцепиться_VERB\n",
      "ухватываться_VERB\n",
      "ухватиться_VERB\n",
      "вцепляться_VERB\n",
      "уцепляться_VERB\n",
      "вцепиться_VERB\n",
      "цепляться_VERB\n",
      "зацепиться_VERB\n",
      "схватиться_VERB\n",
      "схвааться_VERB\n",
      "схватться_VERB\n",
      "ощущение_NOUN\n",
      "чувство_NOUN\n",
      "переживание_NOUN\n",
      "ощущать_VERB\n",
      "ощущений_NOUN\n",
      "кинестетический_ADJ\n",
      "тревожащий_VERB\n",
      "предощущение_NOUN\n",
      "завороженность_NOUN\n",
      "ирреальность_NOUN\n",
      "впечатление_NOUN\n",
      "чувство_NOUN\n",
      "ощущение_NOUN\n",
      "чувствование_NOUN\n",
      "чувства_NOUN\n",
      "чувство_PROPN\n",
      "встревоженность_NOUN\n",
      "переживание_NOUN\n",
      "оскорбленность_NOUN\n",
      "чувствотец_NOUN\n",
      "растроганность_NOUN\n",
      "несознавать_ADJ\n",
      "эмоция_NOUN\n",
      "эмоциональный_ADJ\n",
      "переживание_NOUN\n",
      "эмоций_NOUN\n",
      "аффект_NOUN\n",
      "неосознавать_ADJ\n",
      "аффекть_NOUN\n",
      "фрустрация_NOUN\n",
      "чувство_NOUN\n",
      "аффективно_ADV\n",
      "паттерна_NOUN\n",
      "переживание_NOUN\n",
      "эмоция_NOUN\n",
      "вчувствование_NOUN\n",
      "трансгредиентный_ADJ\n",
      "эмоциональный_ADJ\n",
      "сенсуальный_ADJ\n",
      "вживаний_NOUN\n",
      "интрапсихический_ADJ\n",
      "аффективный_ADJ\n",
      "внутрителесный_ADJ\n",
      "разорванности_NOUN\n"
     ]
    }
   ],
   "source": [
    "for word in near_dict:\n",
    "    print(word)\n",
    "    for near_word in near_dict[word]:\n",
    "        print(near_word)\n",
    "        if near_word in communicate_words:\n",
    "            G.add_edge(word, near_word)"
   ]
  },
  {
   "cell_type": "code",
   "execution_count": 12,
   "metadata": {},
   "outputs": [
    {
     "data": {
      "image/png": "[encoded data removed]",
      "text/plain": [
       "<matplotlib.figure.Figure at 0xdea5990>"
      ]
     },
     "metadata": {},
     "output_type": "display_data"
    }
   ],
   "source": [
    "pos = nx.spring_layout(G)\n",
    "nx.draw_networkx_nodes(G, pos, node_color='red', node_size=10) \n",
    "nx.draw_networkx_edges(G, pos, edge_color='yellow')\n",
    "nx.draw_networkx_labels(G, pos, font_size=10, font_family='Arial')\n",
    "plt.axis('off') \n",
    "plt.show()"
   ]
  },
  {
   "cell_type": "markdown",
   "metadata": {},
   "source": [
    "Дальше работа с параметрами графа"
   ]
  },
  {
   "cell_type": "code",
   "execution_count": 21,
   "metadata": {},
   "outputs": [
    {
     "name": "stdout",
     "output_type": "stream",
     "text": [
      "Кластеризация: 0.4596491228070175\n",
      "почувствовать_VERB\n",
      "ощущать_VERB\n",
      "ощущение_NOUN\n",
      "чувствовать_VERB\n",
      "сознавать_VERB\n",
      "чувство_NOUN\n",
      "переживание_NOUN\n",
      "щупать_VERB\n",
      "ощупывать_VERB\n",
      "шарить_VERB\n",
      "эмоция_NOUN\n",
      "реагировать_VERB\n",
      "воспринимать_VERB\n",
      "почуять_VERB\n",
      "прикасаться_VERB\n",
      "дотрагиваться_VERB\n",
      "замечать_VERB\n",
      "увидеть_VERB\n",
      "уцепиться_VERB\n",
      "Радиус: 2\n",
      "Радиус: 1\n",
      "Радиус: 0\n",
      "Радиус: 0\n",
      "Радиус: 1\n",
      "Радиус: 1\n",
      "Радиус: 0\n"
     ]
    }
   ],
   "source": [
    "#Коэффициент кластеризации\n",
    "print('Кластеризация: '+str(nx.average_clustering(G)))\n",
    "#Центральные слова\n",
    "deg = nx.degree_centrality(G)\n",
    "\n",
    "for nodeid in sorted(deg, key=deg.get, reverse=True):\n",
    "    print(nodeid)\n",
    "#Компоненты связности и радиусы\n",
    "graphs = nx.connected_component_subgraphs(G)\n",
    "for graph in graphs:\n",
    "    print(\"Радиус: \"+str(nx.radius(graph)))"
   ]
  },
  {
   "cell_type": "code",
   "execution_count": null,
   "metadata": {
    "collapsed": true
   },
   "outputs": [],
   "source": []
  }
 ],
 "metadata": {
  "kernelspec": {
   "display_name": "Python 3",
   "language": "python",
   "name": "python3"
  },
  "language_info": {
   "codemirror_mode": {
    "name": "ipython",
    "version": 3
   },
   "file_extension": ".py",
   "mimetype": "text/x-python",
   "name": "python",
   "nbconvert_exporter": "python",
   "pygments_lexer": "ipython3",
   "version": "3.6.1"
  }
 },
 "nbformat": 4,
 "nbformat_minor": 2
}
